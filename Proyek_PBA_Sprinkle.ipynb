{
  "nbformat": 4,
  "nbformat_minor": 0,
  "metadata": {
    "colab": {
      "name": "Proyek_PBA_Sprinkle.ipynb",
      "provenance": [],
      "collapsed_sections": [],
      "include_colab_link": true
    },
    "kernelspec": {
      "display_name": "Python 3",
      "name": "python3"
    },
    "language_info": {
      "name": "python"
    },
    "widgets": {
      "application/vnd.jupyter.widget-state+json": {
        "318f37f266d545ab84656f08e0ebcf70": {
          "model_module": "@jupyter-widgets/controls",
          "model_name": "HBoxModel",
          "model_module_version": "1.5.0",
          "state": {
            "_view_name": "HBoxView",
            "_dom_classes": [],
            "_model_name": "HBoxModel",
            "_view_module": "@jupyter-widgets/controls",
            "_model_module_version": "1.5.0",
            "_view_count": null,
            "_view_module_version": "1.5.0",
            "box_style": "",
            "layout": "IPY_MODEL_b3a9f1cff5774416b09d957967e4d8ed",
            "_model_module": "@jupyter-widgets/controls",
            "children": [
              "IPY_MODEL_16c306795351495a9b81be64c643db26",
              "IPY_MODEL_febaf9ea725745bbb926d4d25eebc74c",
              "IPY_MODEL_54fd8eb6c1c9452ba6c859f35bc61643"
            ]
          }
        },
        "b3a9f1cff5774416b09d957967e4d8ed": {
          "model_module": "@jupyter-widgets/base",
          "model_name": "LayoutModel",
          "model_module_version": "1.2.0",
          "state": {
            "_view_name": "LayoutView",
            "grid_template_rows": null,
            "right": null,
            "justify_content": null,
            "_view_module": "@jupyter-widgets/base",
            "overflow": null,
            "_model_module_version": "1.2.0",
            "_view_count": null,
            "flex_flow": null,
            "width": null,
            "min_width": null,
            "border": null,
            "align_items": null,
            "bottom": null,
            "_model_module": "@jupyter-widgets/base",
            "top": null,
            "grid_column": null,
            "overflow_y": null,
            "overflow_x": null,
            "grid_auto_flow": null,
            "grid_area": null,
            "grid_template_columns": null,
            "flex": null,
            "_model_name": "LayoutModel",
            "justify_items": null,
            "grid_row": null,
            "max_height": null,
            "align_content": null,
            "visibility": null,
            "align_self": null,
            "height": null,
            "min_height": null,
            "padding": null,
            "grid_auto_rows": null,
            "grid_gap": null,
            "max_width": null,
            "order": null,
            "_view_module_version": "1.2.0",
            "grid_template_areas": null,
            "object_position": null,
            "object_fit": null,
            "grid_auto_columns": null,
            "margin": null,
            "display": null,
            "left": null
          }
        },
        "16c306795351495a9b81be64c643db26": {
          "model_module": "@jupyter-widgets/controls",
          "model_name": "HTMLModel",
          "model_module_version": "1.5.0",
          "state": {
            "_view_name": "HTMLView",
            "style": "IPY_MODEL_289a901890f444bf934958b7d3931fe1",
            "_dom_classes": [],
            "description": "",
            "_model_name": "HTMLModel",
            "placeholder": "​",
            "_view_module": "@jupyter-widgets/controls",
            "_model_module_version": "1.5.0",
            "value": "100%",
            "_view_count": null,
            "_view_module_version": "1.5.0",
            "description_tooltip": null,
            "_model_module": "@jupyter-widgets/controls",
            "layout": "IPY_MODEL_617b08f6c50e4e0a915eeefd015f9a9a"
          }
        },
        "febaf9ea725745bbb926d4d25eebc74c": {
          "model_module": "@jupyter-widgets/controls",
          "model_name": "FloatProgressModel",
          "model_module_version": "1.5.0",
          "state": {
            "_view_name": "ProgressView",
            "style": "IPY_MODEL_e5956fa7688f452f909c5a9143901577",
            "_dom_classes": [],
            "description": "",
            "_model_name": "FloatProgressModel",
            "bar_style": "success",
            "max": 3,
            "_view_module": "@jupyter-widgets/controls",
            "_model_module_version": "1.5.0",
            "value": 3,
            "_view_count": null,
            "_view_module_version": "1.5.0",
            "orientation": "horizontal",
            "min": 0,
            "description_tooltip": null,
            "_model_module": "@jupyter-widgets/controls",
            "layout": "IPY_MODEL_3b94933d0ed64b008b498b0e7e29acab"
          }
        },
        "54fd8eb6c1c9452ba6c859f35bc61643": {
          "model_module": "@jupyter-widgets/controls",
          "model_name": "HTMLModel",
          "model_module_version": "1.5.0",
          "state": {
            "_view_name": "HTMLView",
            "style": "IPY_MODEL_78a09e15867a4fb287b086b8725c0560",
            "_dom_classes": [],
            "description": "",
            "_model_name": "HTMLModel",
            "placeholder": "​",
            "_view_module": "@jupyter-widgets/controls",
            "_model_module_version": "1.5.0",
            "value": " 3/3 [00:00&lt;00:00, 50.02it/s]",
            "_view_count": null,
            "_view_module_version": "1.5.0",
            "description_tooltip": null,
            "_model_module": "@jupyter-widgets/controls",
            "layout": "IPY_MODEL_f48cea6fda7743939fc4846f337da0a7"
          }
        },
        "289a901890f444bf934958b7d3931fe1": {
          "model_module": "@jupyter-widgets/controls",
          "model_name": "DescriptionStyleModel",
          "model_module_version": "1.5.0",
          "state": {
            "_view_name": "StyleView",
            "_model_name": "DescriptionStyleModel",
            "description_width": "",
            "_view_module": "@jupyter-widgets/base",
            "_model_module_version": "1.5.0",
            "_view_count": null,
            "_view_module_version": "1.2.0",
            "_model_module": "@jupyter-widgets/controls"
          }
        },
        "617b08f6c50e4e0a915eeefd015f9a9a": {
          "model_module": "@jupyter-widgets/base",
          "model_name": "LayoutModel",
          "model_module_version": "1.2.0",
          "state": {
            "_view_name": "LayoutView",
            "grid_template_rows": null,
            "right": null,
            "justify_content": null,
            "_view_module": "@jupyter-widgets/base",
            "overflow": null,
            "_model_module_version": "1.2.0",
            "_view_count": null,
            "flex_flow": null,
            "width": null,
            "min_width": null,
            "border": null,
            "align_items": null,
            "bottom": null,
            "_model_module": "@jupyter-widgets/base",
            "top": null,
            "grid_column": null,
            "overflow_y": null,
            "overflow_x": null,
            "grid_auto_flow": null,
            "grid_area": null,
            "grid_template_columns": null,
            "flex": null,
            "_model_name": "LayoutModel",
            "justify_items": null,
            "grid_row": null,
            "max_height": null,
            "align_content": null,
            "visibility": null,
            "align_self": null,
            "height": null,
            "min_height": null,
            "padding": null,
            "grid_auto_rows": null,
            "grid_gap": null,
            "max_width": null,
            "order": null,
            "_view_module_version": "1.2.0",
            "grid_template_areas": null,
            "object_position": null,
            "object_fit": null,
            "grid_auto_columns": null,
            "margin": null,
            "display": null,
            "left": null
          }
        },
        "e5956fa7688f452f909c5a9143901577": {
          "model_module": "@jupyter-widgets/controls",
          "model_name": "ProgressStyleModel",
          "model_module_version": "1.5.0",
          "state": {
            "_view_name": "StyleView",
            "_model_name": "ProgressStyleModel",
            "description_width": "",
            "_view_module": "@jupyter-widgets/base",
            "_model_module_version": "1.5.0",
            "_view_count": null,
            "_view_module_version": "1.2.0",
            "bar_color": null,
            "_model_module": "@jupyter-widgets/controls"
          }
        },
        "3b94933d0ed64b008b498b0e7e29acab": {
          "model_module": "@jupyter-widgets/base",
          "model_name": "LayoutModel",
          "model_module_version": "1.2.0",
          "state": {
            "_view_name": "LayoutView",
            "grid_template_rows": null,
            "right": null,
            "justify_content": null,
            "_view_module": "@jupyter-widgets/base",
            "overflow": null,
            "_model_module_version": "1.2.0",
            "_view_count": null,
            "flex_flow": null,
            "width": null,
            "min_width": null,
            "border": null,
            "align_items": null,
            "bottom": null,
            "_model_module": "@jupyter-widgets/base",
            "top": null,
            "grid_column": null,
            "overflow_y": null,
            "overflow_x": null,
            "grid_auto_flow": null,
            "grid_area": null,
            "grid_template_columns": null,
            "flex": null,
            "_model_name": "LayoutModel",
            "justify_items": null,
            "grid_row": null,
            "max_height": null,
            "align_content": null,
            "visibility": null,
            "align_self": null,
            "height": null,
            "min_height": null,
            "padding": null,
            "grid_auto_rows": null,
            "grid_gap": null,
            "max_width": null,
            "order": null,
            "_view_module_version": "1.2.0",
            "grid_template_areas": null,
            "object_position": null,
            "object_fit": null,
            "grid_auto_columns": null,
            "margin": null,
            "display": null,
            "left": null
          }
        },
        "78a09e15867a4fb287b086b8725c0560": {
          "model_module": "@jupyter-widgets/controls",
          "model_name": "DescriptionStyleModel",
          "model_module_version": "1.5.0",
          "state": {
            "_view_name": "StyleView",
            "_model_name": "DescriptionStyleModel",
            "description_width": "",
            "_view_module": "@jupyter-widgets/base",
            "_model_module_version": "1.5.0",
            "_view_count": null,
            "_view_module_version": "1.2.0",
            "_model_module": "@jupyter-widgets/controls"
          }
        },
        "f48cea6fda7743939fc4846f337da0a7": {
          "model_module": "@jupyter-widgets/base",
          "model_name": "LayoutModel",
          "model_module_version": "1.2.0",
          "state": {
            "_view_name": "LayoutView",
            "grid_template_rows": null,
            "right": null,
            "justify_content": null,
            "_view_module": "@jupyter-widgets/base",
            "overflow": null,
            "_model_module_version": "1.2.0",
            "_view_count": null,
            "flex_flow": null,
            "width": null,
            "min_width": null,
            "border": null,
            "align_items": null,
            "bottom": null,
            "_model_module": "@jupyter-widgets/base",
            "top": null,
            "grid_column": null,
            "overflow_y": null,
            "overflow_x": null,
            "grid_auto_flow": null,
            "grid_area": null,
            "grid_template_columns": null,
            "flex": null,
            "_model_name": "LayoutModel",
            "justify_items": null,
            "grid_row": null,
            "max_height": null,
            "align_content": null,
            "visibility": null,
            "align_self": null,
            "height": null,
            "min_height": null,
            "padding": null,
            "grid_auto_rows": null,
            "grid_gap": null,
            "max_width": null,
            "order": null,
            "_view_module_version": "1.2.0",
            "grid_template_areas": null,
            "object_position": null,
            "object_fit": null,
            "grid_auto_columns": null,
            "margin": null,
            "display": null,
            "left": null
          }
        }
      }
    }
  },
  "cells": [
    {
      "cell_type": "markdown",
      "metadata": {
        "id": "view-in-github",
        "colab_type": "text"
      },
      "source": [
        "<a href=\"https://colab.research.google.com/github/yanada1307/14IF_Multi-label-Emotion-Classification/blob/main/Proyek_PBA_Sprinkle.ipynb\" target=\"_parent\"><img src=\"https://colab.research.google.com/assets/colab-badge.svg\" alt=\"Open In Colab\"/></a>"
      ]
    },
    {
      "cell_type": "markdown",
      "metadata": {
        "id": "myHq3eSTTqlY"
      },
      "source": [
        "## **PROYEK PBA KELOMPOK SPRINKLE**\n",
        "**Pemrosesan Bahasa Alami**\n",
        "\n",
        "**Selasa, 16 November 2021**\n",
        "\n",
        "\n",
        "1.   11S18015 - Yanada Sari Br Situmorang\n",
        "2.   11S18002 - Putri Era Waty Bakara\n",
        "3.   11S18010 - N. Priskila Napitupulu\n",
        "4.   11S18012 - Suryani Vebhitry Siahaan\n",
        "5.   11S18038 - Grace Winda N Naibaho\n",
        "6.   11S18063 - Elyta Junetta Siregar\n",
        "\n",
        "\n",
        "\n",
        "\n",
        "\n",
        "---"
      ]
    },
    {
      "cell_type": "code",
      "metadata": {
        "id": "P7U3ZIiUZfQq"
      },
      "source": [
        "!pip3 install datasets transformers -q"
      ],
      "execution_count": null,
      "outputs": []
    },
    {
      "cell_type": "code",
      "metadata": {
        "id": "fMVwnJyb5NaS",
        "colab": {
          "base_uri": "https://localhost:8080/"
        },
        "outputId": "4bd24197-e23a-4fab-ef58-77d1639f6364"
      },
      "source": [
        "!pip install tez"
      ],
      "execution_count": null,
      "outputs": [
        {
          "output_type": "stream",
          "name": "stdout",
          "text": [
            "Requirement already satisfied: tez in /usr/local/lib/python3.7/dist-packages (0.1.8)\n",
            "Requirement already satisfied: torch>=1.6.0 in /usr/local/lib/python3.7/dist-packages (from tez) (1.10.0+cu111)\n",
            "Requirement already satisfied: typing-extensions in /usr/local/lib/python3.7/dist-packages (from torch>=1.6.0->tez) (3.10.0.2)\n"
          ]
        }
      ]
    },
    {
      "cell_type": "code",
      "metadata": {
        "id": "oDD88m8UUmFB"
      },
      "source": [
        "from datasets import load_dataset\n",
        "\n",
        "import pandas as pd\n",
        "import numpy as np\n",
        "\n",
        "from tqdm.notebook import tqdm\n",
        "from matplotlib import pyplot as plt\n",
        "\n",
        "from torch.utils.data import DataLoader\n",
        "\n",
        "import os\n",
        "import random\n",
        "import tez\n",
        "import torch\n",
        "import torch.nn as nn\n",
        "import transformers\n",
        "from sklearn import metrics, model_selection, preprocessing\n",
        "from transformers import AdamW, get_linear_schedule_with_warmup"
      ],
      "execution_count": null,
      "outputs": []
    },
    {
      "cell_type": "code",
      "metadata": {
        "colab": {
          "base_uri": "https://localhost:8080/",
          "height": 104,
          "referenced_widgets": [
            "318f37f266d545ab84656f08e0ebcf70",
            "b3a9f1cff5774416b09d957967e4d8ed",
            "16c306795351495a9b81be64c643db26",
            "febaf9ea725745bbb926d4d25eebc74c",
            "54fd8eb6c1c9452ba6c859f35bc61643",
            "289a901890f444bf934958b7d3931fe1",
            "617b08f6c50e4e0a915eeefd015f9a9a",
            "e5956fa7688f452f909c5a9143901577",
            "3b94933d0ed64b008b498b0e7e29acab",
            "78a09e15867a4fb287b086b8725c0560",
            "f48cea6fda7743939fc4846f337da0a7"
          ]
        },
        "id": "F3bptRUBZu9_",
        "outputId": "8bd7b014-1be4-4ecc-9161-b4c6e47a06a1"
      },
      "source": [
        "go_emotions = load_dataset(\"go_emotions\")\n",
        "\n",
        "data = go_emotions.data"
      ],
      "execution_count": null,
      "outputs": [
        {
          "output_type": "stream",
          "name": "stderr",
          "text": [
            "No config specified, defaulting to: go_emotions/simplified\n",
            "Reusing dataset go_emotions (/root/.cache/huggingface/datasets/go_emotions/simplified/0.0.0/2637cfdd4e64d30249c3ed2150fa2b9d279766bfcd6a809b9f085c61a90d776d)\n"
          ]
        },
        {
          "output_type": "display_data",
          "data": {
            "application/vnd.jupyter.widget-view+json": {
              "model_id": "318f37f266d545ab84656f08e0ebcf70",
              "version_minor": 0,
              "version_major": 2
            },
            "text/plain": [
              "  0%|          | 0/3 [00:00<?, ?it/s]"
            ]
          },
          "metadata": {}
        }
      ]
    },
    {
      "cell_type": "code",
      "metadata": {
        "id": "txQQeA7BbueP"
      },
      "source": [
        "train = go_emotions.data[\"train\"].to_pandas()\n",
        "valid = go_emotions.data[\"validation\"].to_pandas()\n",
        "test = go_emotions.data[\"test\"].to_pandas()"
      ],
      "execution_count": null,
      "outputs": []
    },
    {
      "cell_type": "code",
      "metadata": {
        "colab": {
          "base_uri": "https://localhost:8080/"
        },
        "id": "RuBnx1XPZ2om",
        "outputId": "8d8dbc8c-59bd-4520-a9a8-f9e219204ec0"
      },
      "source": [
        "print(train.shape, valid.shape, test.shape)"
      ],
      "execution_count": null,
      "outputs": [
        {
          "output_type": "stream",
          "name": "stdout",
          "text": [
            "(43410, 3) (5426, 3) (5427, 3)\n"
          ]
        }
      ]
    },
    {
      "cell_type": "code",
      "metadata": {
        "colab": {
          "base_uri": "https://localhost:8080/",
          "height": 206
        },
        "id": "UtF8Ot7tkvnJ",
        "outputId": "a4e07d4c-c3f9-4040-91ae-fd2061cf746c"
      },
      "source": [
        "train.head() "
      ],
      "execution_count": null,
      "outputs": [
        {
          "output_type": "execute_result",
          "data": {
            "text/html": [
              "<div>\n",
              "<style scoped>\n",
              "    .dataframe tbody tr th:only-of-type {\n",
              "        vertical-align: middle;\n",
              "    }\n",
              "\n",
              "    .dataframe tbody tr th {\n",
              "        vertical-align: top;\n",
              "    }\n",
              "\n",
              "    .dataframe thead th {\n",
              "        text-align: right;\n",
              "    }\n",
              "</style>\n",
              "<table border=\"1\" class=\"dataframe\">\n",
              "  <thead>\n",
              "    <tr style=\"text-align: right;\">\n",
              "      <th></th>\n",
              "      <th>text</th>\n",
              "      <th>labels</th>\n",
              "      <th>id</th>\n",
              "    </tr>\n",
              "  </thead>\n",
              "  <tbody>\n",
              "    <tr>\n",
              "      <th>0</th>\n",
              "      <td>My favourite food is anything I didn't have to...</td>\n",
              "      <td>[27]</td>\n",
              "      <td>eebbqej</td>\n",
              "    </tr>\n",
              "    <tr>\n",
              "      <th>1</th>\n",
              "      <td>Now if he does off himself, everyone will thin...</td>\n",
              "      <td>[27]</td>\n",
              "      <td>ed00q6i</td>\n",
              "    </tr>\n",
              "    <tr>\n",
              "      <th>2</th>\n",
              "      <td>WHY THE FUCK IS BAYLESS ISOING</td>\n",
              "      <td>[2]</td>\n",
              "      <td>eezlygj</td>\n",
              "    </tr>\n",
              "    <tr>\n",
              "      <th>3</th>\n",
              "      <td>To make her feel threatened</td>\n",
              "      <td>[14]</td>\n",
              "      <td>ed7ypvh</td>\n",
              "    </tr>\n",
              "    <tr>\n",
              "      <th>4</th>\n",
              "      <td>Dirty Southern Wankers</td>\n",
              "      <td>[3]</td>\n",
              "      <td>ed0bdzj</td>\n",
              "    </tr>\n",
              "  </tbody>\n",
              "</table>\n",
              "</div>"
            ],
            "text/plain": [
              "                                                text labels       id\n",
              "0  My favourite food is anything I didn't have to...   [27]  eebbqej\n",
              "1  Now if he does off himself, everyone will thin...   [27]  ed00q6i\n",
              "2                     WHY THE FUCK IS BAYLESS ISOING    [2]  eezlygj\n",
              "3                        To make her feel threatened   [14]  ed7ypvh\n",
              "4                             Dirty Southern Wankers    [3]  ed0bdzj"
            ]
          },
          "metadata": {},
          "execution_count": 23
        }
      ]
    },
    {
      "cell_type": "code",
      "metadata": {
        "id": "VEdHzmHtbi62"
      },
      "source": [
        "mapping = {\n",
        "    0:\"admiration\",\n",
        "    1:\"amusement\",\n",
        "    2:\"anger\",\n",
        "    3:\"annoyance\",\n",
        "    4:\"approval\",\n",
        "    5:\"caring\",\n",
        "    6:\"confusion\",\n",
        "    7:\"curiosity\",\n",
        "    8:\"desire\",\n",
        "    9:\"disappointment\",\n",
        "    10:\"disapproval\",\n",
        "    11:\"disgust\",\n",
        "    12:\"embarrassment\",\n",
        "    13:\"excitement\",\n",
        "    14:\"fear\",\n",
        "    15:\"gratitude\",\n",
        "    16:\"grief\",\n",
        "    17:\"joy\",\n",
        "    18:\"love\",\n",
        "    19:\"nervousness\",\n",
        "    20:\"optimism\",\n",
        "    21:\"pride\",\n",
        "    22:\"realization\",\n",
        "    23:\"relief\",\n",
        "    24:\"remorse\",\n",
        "    25:\"sadness\",\n",
        "    26:\"surprise\",\n",
        "    27:\"neutral\",\n",
        "}\n",
        "\n",
        "n_labels = len(mapping)"
      ],
      "execution_count": null,
      "outputs": []
    },
    {
      "cell_type": "code",
      "metadata": {
        "id": "rk1y80qUd904"
      },
      "source": [
        "def one_hot_labels(df):\n",
        "    dict_labels= []\n",
        "    for i in tqdm(range(len(df)), leave=False):\n",
        "        d = dict(zip(range(n_labels), [0]*n_labels))\n",
        "        labels = df.loc[i][\"labels\"]\n",
        "        \n",
        "        for label in labels:\n",
        "            d[label] = 1\n",
        "        dict_labels.append(d)\n",
        "        \n",
        "    return pd.DataFrame(dict_labels)"
      ],
      "execution_count": null,
      "outputs": []
    },
    {
      "cell_type": "code",
      "metadata": {
        "id": "21ALPr9FRXMM"
      },
      "source": [
        "class GoEmotionDataset():\n",
        "    def __init__(self, texts, targets):\n",
        "        self.texts = texts\n",
        "        self.targets = targets\n",
        "        self.tokenizer = transformers.SqueezeBertTokenizer.from_pretrained(\n",
        "            \"squeezebert/squeezebert-uncased\", do_lower_case=True\n",
        "        )\n",
        "        self.max_len = 35\n",
        " \n",
        "    def __len__(self):\n",
        "        return len(self.texts)\n",
        "\n",
        "    \n",
        "    def __getitem__(self, index):\n",
        "        target = self.targets[index]\n",
        "        text = self.texts[index]\n",
        "\n",
        "        inputs = self.tokenizer.encode_plus(text,\n",
        "                                            None,\n",
        "                                            add_special_tokens=True,\n",
        "                                            max_length=self.max_len,\n",
        "                                            padding=\"max_length\",\n",
        "                                            truncation=True)\n",
        "        \n",
        "        ids = inputs[\"input_ids\"]\n",
        "        mask = inputs[\"attention_mask\"]\n",
        "\n",
        "        return {\n",
        "            \"ids\": torch.tensor(ids, dtype=torch.long),\n",
        "            \"mask\": torch.tensor(mask, dtype=torch.long),\n",
        "            \"targets\": torch.tensor(self.targets[index], dtype=torch.long),\n",
        "        }"
      ],
      "execution_count": null,
      "outputs": []
    }
  ]
}